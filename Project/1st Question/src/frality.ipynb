{
  "cells": [
    {
      "cell_type": "code",
      "execution_count": 5,
      "metadata": {
        "id": "Y83IvvH9yn94"
      },
      "outputs": [],
      "source": [
        "import pandas as pd\n",
        "import os"
      ]
    },
    {
      "cell_type": "code",
      "execution_count": 8,
      "metadata": {
        "colab": {
          "base_uri": "https://localhost:8080/",
          "height": 339
        },
        "id": "CPiWVaQ4yn97",
        "outputId": "cb13064a-907a-4109-8b93-306b623e7414"
      },
      "outputs": [],
      "source": [
        "input_path = \"C:/Users/samyu/Desktop/Project/1st Question/data_raw/Frality.csv\"\n",
        "df = pd.read_csv(input_path)"
      ]
    },
    {
      "cell_type": "code",
      "execution_count": 9,
      "metadata": {
        "id": "Pd0gl7Esyn98",
        "outputId": "073d7eac-0fd1-460d-88d9-edd721d7b0cb"
      },
      "outputs": [
        {
          "name": "stdout",
          "output_type": "stream",
          "text": [
            "Height            0\n",
            "Weight            0\n",
            "Age               0\n",
            "Grip strength     0\n",
            "Frailty           0\n",
            "dtype: int64\n"
          ]
        }
      ],
      "source": [
        "print(df.isnull().sum())"
      ]
    },
    {
      "cell_type": "code",
      "execution_count": 10,
      "metadata": {
        "id": "DTUuOwlTyn99",
        "outputId": "a833dcf5-3a18-4a41-e186-e1306cd0c169"
      },
      "outputs": [
        {
          "name": "stdout",
          "output_type": "stream",
          "text": [
            "0\n"
          ]
        }
      ],
      "source": [
        "print(df.duplicated().sum())"
      ]
    },
    {
      "cell_type": "code",
      "execution_count": 11,
      "metadata": {
        "id": "zsY4uOYbyn9-",
        "outputId": "8bfdcbb0-2559-426d-9f56-7558e79bcab1"
      },
      "outputs": [
        {
          "name": "stdout",
          "output_type": "stream",
          "text": [
            "Index(['Height ', 'Weight ', 'Age ', 'Grip strength ', 'Frailty '], dtype='object')\n"
          ]
        }
      ],
      "source": [
        "print(df.columns)"
      ]
    },
    {
      "cell_type": "code",
      "execution_count": 12,
      "metadata": {
        "id": "hdweVsuYyn9_"
      },
      "outputs": [],
      "source": [
        "df.columns = df.columns.str.strip()"
      ]
    },
    {
      "cell_type": "code",
      "execution_count": 13,
      "metadata": {
        "id": "jbbe1d5Zyn9_"
      },
      "outputs": [],
      "source": [
        "if 'Frailty' in df.columns:\n",
        "    df['Frailty'] = df['Frailty'].astype('category')\n",
        "else:\n",
        "    print(\"Column 'Frailty' not found.\")"
      ]
    },
    {
      "cell_type": "code",
      "execution_count": 14,
      "metadata": {
        "id": "xROCT_ixyn9_"
      },
      "outputs": [],
      "source": [
        "output_folder = \"C:/Users/samyu/Desktop/Project/1st Question/data_cleaned/cleaned_frailty_data.csv\""
      ]
    },
    {
      "cell_type": "code",
      "execution_count": 15,
      "metadata": {
        "id": "9q_elTqPyn9_"
      },
      "outputs": [],
      "source": [
        "output_path = \"C:/Users/samyu/Desktop/Project/1st Question/data_cleaned/cleaned_frailty_data.csv\"\n",
        "os.makedirs(os.path.dirname(output_path), exist_ok=True)\n",
        "df.to_csv(output_path, index=False)"
      ]
    },
    {
      "cell_type": "code",
      "execution_count": 20,
      "metadata": {},
      "outputs": [
        {
          "name": "stdout",
          "output_type": "stream",
          "text": [
            "Requirement already satisfied: matplotlib in c:\\users\\samyu\\desktop\\project\\1st question\\.venv\\lib\\site-packages (3.9.2)\n",
            "Collecting seaborn\n",
            "  Downloading seaborn-0.13.2-py3-none-any.whl.metadata (5.4 kB)\n",
            "Requirement already satisfied: contourpy>=1.0.1 in c:\\users\\samyu\\desktop\\project\\1st question\\.venv\\lib\\site-packages (from matplotlib) (1.3.0)\n",
            "Requirement already satisfied: cycler>=0.10 in c:\\users\\samyu\\desktop\\project\\1st question\\.venv\\lib\\site-packages (from matplotlib) (0.12.1)\n",
            "Requirement already satisfied: fonttools>=4.22.0 in c:\\users\\samyu\\desktop\\project\\1st question\\.venv\\lib\\site-packages (from matplotlib) (4.54.1)\n",
            "Requirement already satisfied: kiwisolver>=1.3.1 in c:\\users\\samyu\\desktop\\project\\1st question\\.venv\\lib\\site-packages (from matplotlib) (1.4.7)\n",
            "Requirement already satisfied: numpy>=1.23 in c:\\users\\samyu\\desktop\\project\\1st question\\.venv\\lib\\site-packages (from matplotlib) (2.1.1)\n",
            "Requirement already satisfied: packaging>=20.0 in c:\\users\\samyu\\desktop\\project\\1st question\\.venv\\lib\\site-packages (from matplotlib) (24.1)\n",
            "Requirement already satisfied: pillow>=8 in c:\\users\\samyu\\desktop\\project\\1st question\\.venv\\lib\\site-packages (from matplotlib) (10.4.0)\n",
            "Requirement already satisfied: pyparsing>=2.3.1 in c:\\users\\samyu\\desktop\\project\\1st question\\.venv\\lib\\site-packages (from matplotlib) (3.1.4)\n",
            "Requirement already satisfied: python-dateutil>=2.7 in c:\\users\\samyu\\desktop\\project\\1st question\\.venv\\lib\\site-packages (from matplotlib) (2.9.0.post0)\n",
            "Requirement already satisfied: pandas>=1.2 in c:\\users\\samyu\\desktop\\project\\1st question\\.venv\\lib\\site-packages (from seaborn) (2.2.3)\n",
            "Requirement already satisfied: pytz>=2020.1 in c:\\users\\samyu\\desktop\\project\\1st question\\.venv\\lib\\site-packages (from pandas>=1.2->seaborn) (2024.2)\n",
            "Requirement already satisfied: tzdata>=2022.7 in c:\\users\\samyu\\desktop\\project\\1st question\\.venv\\lib\\site-packages (from pandas>=1.2->seaborn) (2024.2)\n",
            "Requirement already satisfied: six>=1.5 in c:\\users\\samyu\\desktop\\project\\1st question\\.venv\\lib\\site-packages (from python-dateutil>=2.7->matplotlib) (1.16.0)\n",
            "Downloading seaborn-0.13.2-py3-none-any.whl (294 kB)\n",
            "Installing collected packages: seaborn\n",
            "Successfully installed seaborn-0.13.2\n"
          ]
        }
      ],
      "source": [
        "!pip install matplotlib seaborn"
      ]
    },
    {
      "cell_type": "code",
      "execution_count": 21,
      "metadata": {
        "id": "e5FGiS4Jyn-B"
      },
      "outputs": [],
      "source": [
        "output_folder = \"C:/Users/samyu/Desktop/Project/1st Question/results\"\n"
      ]
    },
    {
      "cell_type": "code",
      "execution_count": 24,
      "metadata": {},
      "outputs": [],
      "source": [
        "import matplotlib.pyplot as plt\n",
        "import seaborn as sns "
      ]
    },
    {
      "cell_type": "code",
      "execution_count": 25,
      "metadata": {
        "id": "XpBtppOIyn-C",
        "outputId": "326ae893-6b06-43d9-c6e0-9d49e0a2e016"
      },
      "outputs": [
        {
          "data": {
            "image/png": "[encoded data removed]",
            "text/plain": [
              "<Figure size 1000x600 with 1 Axes>"
            ]
          },
          "metadata": {},
          "output_type": "display_data"
        }
      ],
      "source": [
        "plt.figure(figsize=(10, 6))\n",
        "sns.countplot(data=df, x='Frailty', order=df['Frailty'].value_counts().index)\n",
        "plt.title('Count of Frailty Categories')\n",
        "plt.savefig(os.path.join(output_folder, 'frailty_categories_count.png'))\n",
        "plt.show()\n"
      ]
    },
    {
      "cell_type": "code",
      "execution_count": null,
      "metadata": {
        "id": "figYLr-Lyn-C"
      },
      "outputs": [],
      "source": []
    }
  ],
  "metadata": {
    "colab": {
      "provenance": []
    },
    "kernelspec": {
      "display_name": "Python 3",
      "language": "python",
      "name": "python3"
    },
    "language_info": {
      "codemirror_mode": {
        "name": "ipython",
        "version": 3
      },
      "file_extension": ".py",
      "mimetype": "text/x-python",
      "name": "python",
      "nbconvert_exporter": "python",
      "pygments_lexer": "ipython3",
      "version": "3.11.5"
    }
  },
  "nbformat": 4,
  "nbformat_minor": 0
}
