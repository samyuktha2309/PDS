{
  "nbformat": 4,
  "nbformat_minor": 0,
  "metadata": {
    "colab": {
      "provenance": []
    },
    "kernelspec": {
      "name": "python3",
      "display_name": "Python 3"
    },
    "language_info": {
      "name": "python"
    }
  },
  "cells": [
    {
      "cell_type": "markdown",
      "source": [
        "#Load the dataset"
      ],
      "metadata": {
        "id": "UaSbsp1qNiWj"
      }
    },
    {
      "cell_type": "code",
      "execution_count": 2,
      "metadata": {
        "id": "ktWL5obbMtEy"
      },
      "outputs": [],
      "source": [
        "import pandas as pd\n",
        "\n",
        "# Load the dataset\n",
        "url = 'https://raw.githubusercontent.com/JuliaData/CSV.jl/refs/heads/main/test/testfiles/Sacramentorealestatetransactions.csv'\n",
        "data = pd.read_csv(url)"
      ]
    },
    {
      "cell_type": "markdown",
      "source": [
        "#1. Number of columns in the data frame"
      ],
      "metadata": {
        "id": "9Pz0b6-RMyLX"
      }
    },
    {
      "cell_type": "code",
      "source": [
        "num_columns = data.shape[1]\n",
        "print(f\"Number of columns: {num_columns}\")"
      ],
      "metadata": {
        "colab": {
          "base_uri": "https://localhost:8080/"
        },
        "id": "jXdKChq_Myy8",
        "outputId": "d7020dfe-0049-4aa2-cf24-4a7f4acb3e3d"
      },
      "execution_count": 4,
      "outputs": [
        {
          "output_type": "stream",
          "name": "stdout",
          "text": [
            "Number of columns: 12\n"
          ]
        }
      ]
    },
    {
      "cell_type": "markdown",
      "source": [
        "#2. Mean of the house prices"
      ],
      "metadata": {
        "id": "aN8ksRxMM540"
      }
    },
    {
      "cell_type": "code",
      "source": [
        "mean_price = data['price'].mean()\n",
        "print(f\"Mean price: {mean_price}\")"
      ],
      "metadata": {
        "colab": {
          "base_uri": "https://localhost:8080/"
        },
        "id": "v0SbvGi7M5mF",
        "outputId": "edb63486-7c71-4689-df3c-fbb6027c6e74"
      },
      "execution_count": 3,
      "outputs": [
        {
          "output_type": "stream",
          "name": "stdout",
          "text": [
            "Mean price: 234144.26395939087\n"
          ]
        }
      ]
    },
    {
      "cell_type": "markdown",
      "source": [
        "#3. Median of the house prices"
      ],
      "metadata": {
        "id": "-nk8UYa5M_9E"
      }
    },
    {
      "cell_type": "code",
      "source": [
        "median_price = data['price'].median()\n",
        "print(f\"Median price: {median_price}\")"
      ],
      "metadata": {
        "colab": {
          "base_uri": "https://localhost:8080/"
        },
        "id": "fYiwgowUNDFz",
        "outputId": "e4b780d7-0789-4e82-f87e-0a3655e155ce"
      },
      "execution_count": 4,
      "outputs": [
        {
          "output_type": "stream",
          "name": "stdout",
          "text": [
            "Median price: 213750.0\n"
          ]
        }
      ]
    },
    {
      "cell_type": "markdown",
      "source": [
        "#4. Different types of property in the dataset"
      ],
      "metadata": {
        "id": "J31ejGgQNGLo"
      }
    },
    {
      "cell_type": "code",
      "source": [
        "property_types = data['type'].unique()\n",
        "print(f\"Property types: {property_types}\")"
      ],
      "metadata": {
        "colab": {
          "base_uri": "https://localhost:8080/"
        },
        "id": "xHz3yFieNJut",
        "outputId": "2bf6aae3-e119-4a75-849b-89617fbf327a"
      },
      "execution_count": 5,
      "outputs": [
        {
          "output_type": "stream",
          "name": "stdout",
          "text": [
            "Property types: ['Residential' 'Condo' 'Multi-Family' 'Unkown']\n"
          ]
        }
      ]
    },
    {
      "cell_type": "markdown",
      "source": [
        "#5. Maximum price of a \"condo\" in the dataset"
      ],
      "metadata": {
        "id": "SJT47trfNMgW"
      }
    },
    {
      "cell_type": "code",
      "source": [
        "max_price_condo = data[data['type'] == 'Condo']['price'].max()\n",
        "print(f\"Max condo price: {max_price_condo}\")"
      ],
      "metadata": {
        "colab": {
          "base_uri": "https://localhost:8080/"
        },
        "id": "IJdjAyZTNPq9",
        "outputId": "672a063a-2d6e-4d81-8dc9-76f65dea8a07"
      },
      "execution_count": 6,
      "outputs": [
        {
          "output_type": "stream",
          "name": "stdout",
          "text": [
            "Max condo price: 360000\n"
          ]
        }
      ]
    },
    {
      "cell_type": "markdown",
      "source": [
        "#6. Mean price of each type of property in the dataset"
      ],
      "metadata": {
        "id": "uZuKuwkDNS_k"
      }
    },
    {
      "cell_type": "code",
      "source": [
        "mean_price_by_type = data.groupby('type')['price'].mean()\n",
        "print(f\"Mean price by property type:\\n{mean_price_by_type}\")"
      ],
      "metadata": {
        "colab": {
          "base_uri": "https://localhost:8080/"
        },
        "id": "RQMgx_UHNV-D",
        "outputId": "9478f299-0adf-4219-8507-863d0080bcc7"
      },
      "execution_count": 7,
      "outputs": [
        {
          "output_type": "stream",
          "name": "stdout",
          "text": [
            "Mean price by property type:\n",
            "type\n",
            "Condo           150082.185185\n",
            "Multi-Family    224534.692308\n",
            "Residential     239186.162486\n",
            "Unkown          275000.000000\n",
            "Name: price, dtype: float64\n"
          ]
        }
      ]
    },
    {
      "cell_type": "markdown",
      "source": [
        "#7. Count of different property types in the dataset"
      ],
      "metadata": {
        "id": "Xjrd1SSgNZaE"
      }
    },
    {
      "cell_type": "code",
      "source": [
        "property_type_count = data['type'].value_counts()\n",
        "print(f\"Count of property types:\\n{property_type_count}\")"
      ],
      "metadata": {
        "colab": {
          "base_uri": "https://localhost:8080/"
        },
        "id": "7PCYz4lONcbA",
        "outputId": "6d9c26ee-37df-4481-ad0d-23e5faa41d08"
      },
      "execution_count": 8,
      "outputs": [
        {
          "output_type": "stream",
          "name": "stdout",
          "text": [
            "Count of property types:\n",
            "type\n",
            "Residential     917\n",
            "Condo            54\n",
            "Multi-Family     13\n",
            "Unkown            1\n",
            "Name: count, dtype: int64\n"
          ]
        }
      ]
    }
  ]
}